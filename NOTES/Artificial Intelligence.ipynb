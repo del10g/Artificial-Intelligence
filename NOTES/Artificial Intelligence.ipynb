{
 "cells": [
  {
   "cell_type": "markdown",
   "id": "7bc828e4",
   "metadata": {},
   "source": [
    "## Book: Self Taught Computer Scientist\n",
    "__Chapter-1:__ Introductio to Algorithm. \\\n",
    "__Analyze Algorithm__: \\\n",
    "An algorithm is a sequense of steps that solve a problem. \\\n",
    "Example of __python__ code below:"
   ]
  },
  {
   "cell_type": "code",
   "execution_count": 1,
   "id": "089487f4",
   "metadata": {},
   "outputs": [
    {
     "name": "stdout",
     "output_type": "stream",
     "text": [
      "0\n",
      "25\n",
      "50\n",
      "75\n",
      "0.001001119613647461\n"
     ]
    }
   ],
   "source": [
    "#code for alogorithm timing.\n",
    "import time\n",
    "start = time.time()\n",
    "for i in range(100):\n",
    "    if (i % 25 == 0):\n",
    "        print(i)\n",
    "end = time.time()\n",
    "print(end - start)"
   ]
  },
  {
   "cell_type": "markdown",
   "id": "dc5f4a43",
   "metadata": {},
   "source": [
    "There are some most commonly used classification for order of magnitude in __big-O notations__, sorted from the best to worst case: \\\n",
    "Each magnitude describes an algorithms time complexity. \\\n",
    "Time Complexity is the maximum number of steps an algorithm takes to complete as __n__ gets _bigger_.\n",
    "* Constant Time.\n",
    "* Logarithmic Time.\n",
    "* Linear Time.\n",
    "* Log-linear Time.\n",
    "* Quadratic Time.\n",
    "* Cubic Time.\n",
    "* Exponential Time. \\\n",
    "__Space Complexity__ is the amount of memory space your algorithm needs and includes fixed spaces, data structures and temporary  space. \\\n",
    "__Brute-force Algorithm__ is a type of algorithm that test every possible options.\n"
   ]
  },
  {
   "cell_type": "code",
   "execution_count": 2,
   "id": "4e317f88",
   "metadata": {},
   "outputs": [
    {
     "data": {
      "text/plain": [
       "0"
      ]
     },
     "execution_count": 2,
     "metadata": {},
     "output_type": "execute_result"
    }
   ],
   "source": [
    "#Code for Recursion.\n",
    "def factorial(n):\n",
    "    if n == 0:\n",
    "        return 0\n",
    "    return n * factorial(n - 1)\n",
    "factorial(11)"
   ]
  },
  {
   "cell_type": "markdown",
   "id": "7689ba9c-7b67-40c3-a423-ca4cb8244831",
   "metadata": {},
   "source": [
    "### Linear Search \n",
    "you iterate through every element in the data set and compare it to the target number \\\n"
   ]
  },
  {
   "cell_type": "code",
   "execution_count": 3,
   "id": "2efc474d-9eec-401f-9a55-6b3e7bc32ea8",
   "metadata": {},
   "outputs": [
    {
     "name": "stdout",
     "output_type": "stream",
     "text": [
      "True\n"
     ]
    }
   ],
   "source": [
    "# code for linear search:\n",
    "def linear_search(a_list, n):\n",
    "    \n",
    "    for i in a_list:\n",
    "        if i == n:\n",
    "            return True\n",
    "    return False\n",
    "a_list = [1,2,3,4,4,5,6,7,7,8,8,8,8]\n",
    "print(linear_search(a_list,8))"
   ]
  },
  {
   "cell_type": "markdown",
   "id": "69e96f9d-65b3-4d97-ae4a-439b2e5bc79e",
   "metadata": {},
   "source": [
    "### Binary Search\n",
    "is another fast algorithm for seaching a list for a number."
   ]
  },
  {
   "cell_type": "code",
   "execution_count": 4,
   "id": "7797fe49",
   "metadata": {},
   "outputs": [
    {
     "data": {
      "text/plain": [
       "True"
      ]
     },
     "execution_count": 4,
     "metadata": {},
     "output_type": "execute_result"
    }
   ],
   "source": [
    "## code for binary Search\n",
    "def binary_search(a_list, n):\n",
    "    first = 0\n",
    "    last = len(a_list) - 1\n",
    "    while last >= first:\n",
    "        mid = (last + first) // 2\n",
    "        if a_list[mid] == n:\n",
    "            # print(mid) Just to check the index point of that\n",
    "            return True\n",
    "            \n",
    "        else:\n",
    "            if n < a_list[mid]:\n",
    "                last = mid - 1\n",
    "            else:\n",
    "                first = mid + 1\n",
    "    return False\n",
    "\n",
    "a_list = [10,20,30,40,50,60,70,80]\n",
    "binary_search(a_list, 60)"
   ]
  },
  {
   "cell_type": "code",
   "execution_count": 5,
   "id": "df058835",
   "metadata": {},
   "outputs": [
    {
     "data": {
      "text/plain": [
       "2"
      ]
     },
     "execution_count": 5,
     "metadata": {},
     "output_type": "execute_result"
    }
   ],
   "source": [
    "## code of binary seach which is built in python module:\n",
    "from bisect import bisect_left\n",
    "sorted_fruits = [\"apple\",\"banana\",\"orange\",\"pulm\"]\n",
    "bisect_left(sorted_fruits, \"orange\")\n"
   ]
  },
  {
   "cell_type": "markdown",
   "id": "bfc14d65",
   "metadata": {},
   "source": []
  },
  {
   "cell_type": "markdown",
   "id": "1a509000",
   "metadata": {},
   "source": [
    "__Character set__ is a map between characters and binary numbers. \\\n",
    "__Character encoding__ means assigning binary number to character. "
   ]
  },
  {
   "cell_type": "code",
   "execution_count": 6,
   "id": "3fc2962b",
   "metadata": {},
   "outputs": [
    {
     "name": "stdout",
     "output_type": "stream",
     "text": [
      "97\n",
      "65\n"
     ]
    }
   ],
   "source": [
    "# python code to get number of character.\n",
    "print(ord(\"a\"))\n",
    "print(ord(\"A\"))"
   ]
  },
  {
   "cell_type": "markdown",
   "id": "2ee8f4b0",
   "metadata": {},
   "source": []
  },
  {
   "cell_type": "markdown",
   "id": "9126fdb9",
   "metadata": {},
   "source": [
    "## Sorting Algorithms"
   ]
  },
  {
   "cell_type": "markdown",
   "id": "0b639a12",
   "metadata": {},
   "source": [
    "__sorting data__ means arranging data in meaning full way."
   ]
  },
  {
   "cell_type": "markdown",
   "id": "ca43ad11",
   "metadata": {},
   "source": [
    "#### Bubble Sort\n",
    "is a type of selection sort that works by repeatedly by compare each number with the next number and swapping them if they are in wrong order."
   ]
  },
  {
   "cell_type": "code",
   "execution_count": 7,
   "id": "4a511cc9",
   "metadata": {},
   "outputs": [],
   "source": [
    "## generating a list of all the files in a directory\n",
    "import random\n",
    "a_list = list()\n",
    "for i in range(10):\n",
    "    a_list.append(random.randint(1, 1000))"
   ]
  },
  {
   "cell_type": "code",
   "execution_count": 8,
   "id": "5e5bec36",
   "metadata": {},
   "outputs": [
    {
     "name": "stdout",
     "output_type": "stream",
     "text": [
      "0.0\n",
      "[228, 328, 365, 395, 755, 812, 815, 819, 848, 936]\n"
     ]
    }
   ],
   "source": [
    "## Python code for bubble sort.\n",
    "import time\n",
    "def bubble_sort(a_list):\n",
    "    list_len = len(a_list) - 1 ## had a mistake while coding this.\n",
    "    for i in range(list_len):\n",
    "        for j in range(list_len):\n",
    "            if a_list[j] > a_list[j+1]:\n",
    "                a_list[j], a_list[j+1] = a_list[j+1], a_list[j]\n",
    "    return a_list\n",
    "\n",
    "# a_list  = [11,122,33,44,22,111,1,111,22222,3333,444,33,332,5,77,22]\n",
    "start = time.time()\n",
    "sorted1 = bubble_sort(a_list)\n",
    "end= time.time()\n",
    "print(end - start)\n",
    "print(sorted1)"
   ]
  },
  {
   "cell_type": "markdown",
   "id": "82203758",
   "metadata": {},
   "source": [
    "#### Insertion Sort\n",
    "An insertion sort is a type of algorith that works by sorting a list like deck of cards."
   ]
  },
  {
   "cell_type": "code",
   "execution_count": 9,
   "id": "fa759f6b",
   "metadata": {},
   "outputs": [
    {
     "name": "stdout",
     "output_type": "stream",
     "text": [
      "0.0\n",
      "[228, 328, 365, 395, 755, 812, 815, 819, 848, 936]\n"
     ]
    }
   ],
   "source": [
    "#python code for insertion\n",
    "def insertion_sort(a_list):\n",
    "    for i in range(1, len(a_list)):\n",
    "        value = a_list[i]\n",
    "        while i > 0 and a_list[i-1] > value:\n",
    "            a_list[i] = a_list[i-1]\n",
    "            i -= 1\n",
    "        a_list[i]= value\n",
    "    return  a_list\n",
    "\n",
    "start = time.time()\n",
    "sorted2 = insertion_sort(a_list)\n",
    "end= time.time()\n",
    "print(end - start)\n",
    "print(sorted2)\n"
   ]
  },
  {
   "cell_type": "code",
   "execution_count": 10,
   "id": "0955eb16",
   "metadata": {},
   "outputs": [
    {
     "name": "stdout",
     "output_type": "stream",
     "text": [
      "True\n"
     ]
    }
   ],
   "source": [
    "print(0.28783226013183594 > 0.0010006427764892578)"
   ]
  },
  {
   "cell_type": "markdown",
   "id": "830b7c31",
   "metadata": {},
   "source": [
    "#### Merge Sort\n",
    "A merge sort is a recursive sorting algorithm that works by repeatedly splitting a list into two halves and sorting the two or more list. \\\n",
    "A hybrid sorting algorithm is one that combines two or more algorithms to solve the same problem."
   ]
  },
  {
   "cell_type": "code",
   "execution_count": 11,
   "id": "7ff97ef8",
   "metadata": {},
   "outputs": [
    {
     "name": "stdout",
     "output_type": "stream",
     "text": [
      "[0, 1, 4, 8, 10, 10, 19, 22]\n",
      "[22, 19, 10, 10, 8, 4, 1, 0]\n",
      "['apple', 'cucumbers', 'orange', 'tomatos']\n",
      "['tomatos', 'orange', 'cucumbers', 'apple']\n",
      "['apple', 'orange', 'tomatos', 'cucumbers']\n",
      "[1, 2, 3, 4, 6, 9, 10]\n"
     ]
    }
   ],
   "source": [
    "##Python code of hybrid sorting algorithm.\n",
    "a_list = [1,8,10,4,22,19,10,0]\n",
    "print(sorted(a_list))\n",
    "print(sorted(a_list, reverse=True))\n",
    "a_List = [\"apple\",\"orange\",\"tomatos\",\"cucumbers\"]\n",
    "print(sorted(a_List))\n",
    "print(sorted(a_List, reverse=True))\n",
    "print(sorted(a_List, key=len))\n",
    "# another way of doing it.\n",
    "a = [1,6,2,3,9,4,10]\n",
    "a.sort()\n",
    "print(a)"
   ]
  },
  {
   "cell_type": "markdown",
   "id": "bd462391",
   "metadata": {},
   "source": [
    "#### Anagrom detection\n",
    "Two strings are anagrams if they contain the same characters in the same order.\n",
    "#### Palindrome detection\n",
    "is word the reads the same as backward as forward."
   ]
  },
  {
   "cell_type": "code",
   "execution_count": 12,
   "id": "4b1fcd39",
   "metadata": {},
   "outputs": [
    {
     "name": "stdout",
     "output_type": "stream",
     "text": [
      "True\n"
     ]
    }
   ],
   "source": [
    "#python code for anagram detection\n",
    "def is_anagram(s1, s2):\n",
    "    s1 = s1.replace(\" \", \"\").lower()\n",
    "    s2 = s2.replace(\" \", \"\").lower()\n",
    "    if sorted(s1) == sorted(s2):\n",
    "        return True\n",
    "    else:\n",
    "        return False\n",
    "\n",
    "s1 = \"Car\"\n",
    "s2 = \"Arc\"\n",
    "print(is_anagram(s1, s2))"
   ]
  },
  {
   "cell_type": "code",
   "execution_count": 13,
   "id": "adf4c0f8",
   "metadata": {},
   "outputs": [
    {
     "name": "stdout",
     "output_type": "stream",
     "text": [
      "True\n",
      "True\n"
     ]
    }
   ],
   "source": [
    "def is_palindrome(s):\n",
    "    if s.lower() == s[::-1].lower():\n",
    "        return True\n",
    "    else:\n",
    "        return False\n",
    "print(is_palindrome(\"wow\"))\n",
    "print(is_palindrome(\"racecar\"))"
   ]
  },
  {
   "cell_type": "code",
   "execution_count": 14,
   "id": "a42d75e1",
   "metadata": {},
   "outputs": [
    {
     "name": "stdout",
     "output_type": "stream",
     "text": [
      "['1', '2']\n"
     ]
    }
   ],
   "source": [
    "### Program for finding the last digit.\n",
    "s = \"Buy 1 get 2 free.\"\n",
    "n1 = [c for c in s if c.isdigit()]\n",
    "print(n1)"
   ]
  },
  {
   "cell_type": "code",
   "execution_count": 15,
   "id": "2fb849d0",
   "metadata": {},
   "outputs": [
    {
     "name": "stdout",
     "output_type": "stream",
     "text": [
      "Vsckx Ryccksx\n"
     ]
    }
   ],
   "source": [
    "##Caesar Cipher\n",
    "import string\n",
    "\n",
    "def cipher(a_string, key):\n",
    "    uppercase = string.ascii_uppercase\n",
    "    lowercase = string.ascii_lowercase\n",
    "    encrypt = ''\n",
    "    for c in a_string:\n",
    "        if c in uppercase:\n",
    "            new = (uppercase.index(c) + key) % 26\n",
    "            encrypt += uppercase[new]\n",
    "        elif c in lowercase:\n",
    "            new = (lowercase.index(c) + key) % 26\n",
    "            encrypt += lowercase[new]\n",
    "        else:\n",
    "            encrypt += c\n",
    "    return encrypt\n",
    "\n",
    "n = cipher(\"Lisan Hossain\", 10)\n",
    "print(n)"
   ]
  },
  {
   "cell_type": "markdown",
   "id": "668ca31b",
   "metadata": {},
   "source": [
    "## MATH"
   ]
  },
  {
   "cell_type": "code",
   "execution_count": 16,
   "id": "5c1cd3b3",
   "metadata": {},
   "outputs": [
    {
     "name": "stdout",
     "output_type": "stream",
     "text": [
      "0b1010\n"
     ]
    }
   ],
   "source": [
    "print(bin(10))"
   ]
  },
  {
   "cell_type": "markdown",
   "id": "101833cb",
   "metadata": {},
   "source": [
    "## Data Structure"
   ]
  },
  {
   "cell_type": "markdown",
   "id": "e0e01c04",
   "metadata": {},
   "source": [
    "__Data Structure__ is way of organizing data in a computers so programmers can effectively use it in their programs."
   ]
  },
  {
   "cell_type": "code",
   "execution_count": 17,
   "id": "897852cb",
   "metadata": {},
   "outputs": [
    {
     "name": "stdout",
     "output_type": "stream",
     "text": [
      "array('i', [1, 2, 3, 4, 5])\n",
      "array('f', [1.100000023841858, 1.2999999523162842, 5.400000095367432, 2.200000047683716])\n"
     ]
    }
   ],
   "source": [
    "## Python example of array\n",
    "import array\n",
    "# dir(array.array)\n",
    "\n",
    "arr1 = array.array('i', [1, 2, 3, 4, 5])\n",
    "arr2 = array.array('f', [1.1,1.3,5.4,2.2])\n",
    "print(arr1)\n",
    "print(arr2)\n"
   ]
  },
  {
   "cell_type": "code",
   "execution_count": 18,
   "id": "79bf4cec",
   "metadata": {},
   "outputs": [
    {
     "name": "stdout",
     "output_type": "stream",
     "text": [
      "[('Lisan', 18), ('Hossain', 18), ('Bose', 19), ('Tose', 20), ('Loftus', 22), ('Choto', 100)]\n",
      "('Lisan', 18)\n",
      "('Hossain', 18)\n",
      "('Bose', 19)\n",
      "('Tose', 20)\n",
      "('Loftus', 22)\n",
      "('Choto', 100)\n"
     ]
    }
   ],
   "source": [
    "## Combine two lists\n",
    "names = [\"Lisan\", \"Hossain\",\"Bose\",\"Tose\",\"Loftus\",\"Choto\"]\n",
    "ages = [18,18,19,20,22,100]\n",
    "pairs = list(zip(names,ages))\n",
    "print(pairs)\n",
    "for i in pairs:\n",
    "    print(i)"
   ]
  },
  {
   "cell_type": "code",
   "execution_count": 19,
   "id": "2efeb454",
   "metadata": {},
   "outputs": [
    {
     "name": "stdout",
     "output_type": "stream",
     "text": [
      "{'Tose Hossain', 'Lisan Hossain'}\n"
     ]
    }
   ],
   "source": [
    "## Using a set data types which reduce the duplicate elements in a list.\n",
    "a_set = set()\n",
    "a_set.add(\"Lisan Hossain\")\n",
    "a_set.add(\"Tose Hossain\")\n",
    "print(a_set)"
   ]
  },
  {
   "cell_type": "code",
   "execution_count": 22,
   "id": "05088c77",
   "metadata": {},
   "outputs": [
    {
     "name": "stdout",
     "output_type": "stream",
     "text": [
      "['Lisan Hossain', 'Lisan']\n"
     ]
    }
   ],
   "source": [
    "## function to find duplicates\n",
    "def duplicates(an_iterable):\n",
    "    dups = []\n",
    "    a_set = set()\n",
    "    for item in an_iterable:\n",
    "        l1 = len(a_set)\n",
    "        a_set.add(item)\n",
    "        l2 = len(a_set)\n",
    "        if l1 == l2:\n",
    "            dups.append(item)\n",
    "    return dups\n",
    "a_list = [\n",
    "    'Lisan Hossain',\n",
    "    'Bose Tose',\n",
    "    'Lisan Hossain',\n",
    "    'Lose Hose',\n",
    "    'Lisan',\n",
    "    'Lisan',\n",
    "    'Lose',\n",
    "]\n",
    "dups = duplicates(a_list)\n",
    "print(dups)\n",
    "        "
   ]
  },
  {
   "cell_type": "code",
   "execution_count": 24,
   "id": "eed9a6a0",
   "metadata": {},
   "outputs": [
    {
     "name": "stdout",
     "output_type": "stream",
     "text": [
      "[1, 2, 3]\n"
     ]
    }
   ],
   "source": [
    "## returning the intersections\n",
    "def return_inter(list1, list2):\n",
    "    set1 = set(list1)\n",
    "    set2 = set(list2)\n",
    "    return list(set1.intersection(set2))\n",
    "list1 = [2,43,44,55,11,3,22,1,2,2,2,2]\n",
    "list2 = [1,2,3,4,5,6,7,8,9,1]\n",
    "print(return_inter(list1, list2))"
   ]
  },
  {
   "cell_type": "markdown",
   "id": "d5e32a5a",
   "metadata": {},
   "source": [
    "#### Linked List\n"
   ]
  },
  {
   "cell_type": "code",
   "execution_count": 31,
   "id": "bce3c20b",
   "metadata": {},
   "outputs": [
    {
     "name": "stdout",
     "output_type": "stream",
     "text": [
      "Monday\n"
     ]
    },
    {
     "ename": "TypeError",
     "evalue": "__str__ returned non-string (type NoneType)",
     "output_type": "error",
     "traceback": [
      "\u001b[1;31m---------------------------------------------------------------------------\u001b[0m",
      "\u001b[1;31mTypeError\u001b[0m                                 Traceback (most recent call last)",
      "Cell \u001b[1;32mIn[31], line 28\u001b[0m\n\u001b[0;32m     25\u001b[0m a_list\u001b[38;5;241m.\u001b[39mappend(\u001b[38;5;124m\"\u001b[39m\u001b[38;5;124mMonday\u001b[39m\u001b[38;5;124m\"\u001b[39m)\n\u001b[0;32m     26\u001b[0m \u001b[38;5;66;03m# a_list.append(\"Tuesday\")\u001b[39;00m\n\u001b[0;32m     27\u001b[0m \u001b[38;5;66;03m# a_list.append(\"Wednesday\")\u001b[39;00m\n\u001b[1;32m---> 28\u001b[0m \u001b[38;5;28;43mprint\u001b[39;49m\u001b[43m(\u001b[49m\u001b[43ma_list\u001b[49m\u001b[43m)\u001b[49m\n",
      "\u001b[1;31mTypeError\u001b[0m: __str__ returned non-string (type NoneType)"
     ]
    }
   ],
   "source": [
    "## Link list in codes:\n",
    "class Node:\n",
    "    def __init__(self, data, next=None):\n",
    "        self.data = data\n",
    "        self.next = next\n",
    "class LinkedList:\n",
    "    def __init__(self):\n",
    "        self.head = None\n",
    "    def append(self, data):\n",
    "        if not self.head:\n",
    "            self.head = Node(data)\n",
    "            return \n",
    "        currrent = self.head\n",
    "        while currrent.next:\n",
    "            current = current.next\n",
    "        current.next = Node(data)\n",
    "        \n",
    "    def __str__(self):\n",
    "            node = self.head\n",
    "            while node is not None:\n",
    "                print(node.data)\n",
    "                node = node.next\n",
    "\n",
    "a_list = LinkedList()\n",
    "a_list.append(\"Monday\")\n",
    "# a_list.append(\"Tuesday\")\n",
    "# a_list.append(\"Wednesday\")\n",
    "print(a_list)"
   ]
  },
  {
   "cell_type": "markdown",
   "id": "58924dbf",
   "metadata": {},
   "source": [
    "#### Creating a Stack"
   ]
  },
  {
   "cell_type": "code",
   "execution_count": 33,
   "id": "2fd91ebd",
   "metadata": {},
   "outputs": [],
   "source": [
    "## Stacks Code\n",
    "class Stack:\n",
    "    def __init__(self):\n",
    "        self.item = []\n",
    "    def push(self, data):\n",
    "        self.item.append(data)\n",
    "    def pop(self):\n",
    "        self.item.pop()\n",
    "    def size(self):\n",
    "        return len(self.items)\n",
    "    def is_empty(self):\n",
    "        return len(self.items) == 0\n",
    "    def peek(self):\n",
    "        return self.items[-1]"
   ]
  },
  {
   "cell_type": "markdown",
   "id": "a5715fb6",
   "metadata": {},
   "source": [
    "#### Python data types queues pre-build from module."
   ]
  },
  {
   "cell_type": "code",
   "execution_count": 35,
   "id": "4aedaf4a",
   "metadata": {},
   "outputs": [
    {
     "name": "stdout",
     "output_type": "stream",
     "text": [
      "3\n",
      "a\n",
      "b\n",
      "c\n"
     ]
    }
   ],
   "source": [
    "### python pre-built queues\n",
    "from queue import Queue\n",
    "q = Queue()\n",
    "q.put('a')\n",
    "q.put('b')\n",
    "q.put('c')\n",
    "# print(q.qsize())\n",
    "for i in range(3):\n",
    "    print(q.get())"
   ]
  },
  {
   "cell_type": "markdown",
   "id": "e6154d08",
   "metadata": {},
   "source": [
    "#### Binary Table"
   ]
  },
  {
   "cell_type": "code",
   "execution_count": 37,
   "id": "ad0a850d",
   "metadata": {},
   "outputs": [],
   "source": [
    "class BinaryTable:\n",
    "    def __init__(self,value):\n",
    "        self.key = value\n",
    "        self.left_child = None\n",
    "        self.right_child = None\n",
    "    def insert_left(self,value):\n",
    "        if self.left_child == None:\n",
    "            self.left_child = BinaryTable(value)\n",
    "        else:\n",
    "            bin_tree = BinaryTable(value)\n",
    "            bin_tree.left_child = self.left_child\n",
    "            self.left_child = bin_tree\n",
    "    def insert_right(self,value):\n",
    "        if self.right_child == None:\n",
    "            self.right_child = BinaryTable(value)\n",
    "        else:\n",
    "            bin_tree = BinaryTree(value)\n",
    "            bin_tree.right_child = self.right_child\n",
    "            self.right_child = bin_tree\n"
   ]
  },
  {
   "cell_type": "markdown",
   "id": "cd39e5ae",
   "metadata": {},
   "source": [
    "# Book: Computer Science: an overview"
   ]
  },
  {
   "cell_type": "code",
   "execution_count": 44,
   "id": "ff77fc41",
   "metadata": {},
   "outputs": [
    {
     "name": "stdout",
     "output_type": "stream",
     "text": [
      "0b10001101\n",
      "The max is 200\n"
     ]
    }
   ],
   "source": [
    "print(bin(0b10001101))\n",
    "## finding the max\n",
    "x = 100\n",
    "y = 200\n",
    "z = 300\n",
    "print(f\"The max is {max(x,y,z)}\")"
   ]
  },
  {
   "cell_type": "markdown",
   "id": "b94aebfe",
   "metadata": {},
   "source": [
    "#### Networking"
   ]
  },
  {
   "cell_type": "code",
   "execution_count": 45,
   "id": "c20d76aa",
   "metadata": {},
   "outputs": [
    {
     "name": "stdout",
     "output_type": "stream",
     "text": [
      "Connecting to localhost 1313 \n",
      "Client sending 'To infinite loop'\n"
     ]
    },
    {
     "ename": "OSError",
     "evalue": "[WinError 10057] A request to send or receive data was disallowed because the socket is not connected and (when sending on a datagram socket using a sendto call) no address was supplied",
     "output_type": "error",
     "traceback": [
      "\u001b[1;31m---------------------------------------------------------------------------\u001b[0m",
      "\u001b[1;31mOSError\u001b[0m                                   Traceback (most recent call last)",
      "Cell \u001b[1;32mIn[45], line 9\u001b[0m\n\u001b[0;32m      7\u001b[0m message  \u001b[38;5;241m=\u001b[39m \u001b[38;5;124mb\u001b[39m\u001b[38;5;124m'\u001b[39m\u001b[38;5;124mTo infinite loop\u001b[39m\u001b[38;5;124m'\u001b[39m\n\u001b[0;32m      8\u001b[0m \u001b[38;5;28mprint\u001b[39m(\u001b[38;5;124m\"\u001b[39m\u001b[38;5;124mClient sending \u001b[39m\u001b[38;5;124m'\u001b[39m\u001b[38;5;132;01m%s\u001b[39;00m\u001b[38;5;124m'\u001b[39m\u001b[38;5;124m\"\u001b[39m \u001b[38;5;241m%\u001b[39m message\u001b[38;5;241m.\u001b[39mdecode())\n\u001b[1;32m----> 9\u001b[0m \u001b[43msock\u001b[49m\u001b[38;5;241;43m.\u001b[39;49m\u001b[43msendall\u001b[49m\u001b[43m(\u001b[49m\u001b[43mmessage\u001b[49m\u001b[43m)\u001b[49m\n\u001b[0;32m     11\u001b[0m reply \u001b[38;5;241m=\u001b[39m sock\u001b[38;5;241m.\u001b[39mrecv(\u001b[38;5;241m11\u001b[39m)\n\u001b[0;32m     12\u001b[0m \u001b[38;5;28mprint\u001b[39m(\u001b[38;5;124m\"\u001b[39m\u001b[38;5;124mClient recieved \u001b[39m\u001b[38;5;124m'\u001b[39m\u001b[38;5;132;01m%s\u001b[39;00m\u001b[38;5;124m'\u001b[39m\u001b[38;5;124m\"\u001b[39m \u001b[38;5;241m%\u001b[39m reply\u001b[38;5;241m.\u001b[39mdecode())\n",
      "\u001b[1;31mOSError\u001b[0m: [WinError 10057] A request to send or receive data was disallowed because the socket is not connected and (when sending on a datagram socket using a sendto call) no address was supplied"
     ]
    }
   ],
   "source": [
    "## Creating a server\n",
    "import socket\n",
    "\n",
    "sock = socket.socket(socket.AF_INET, socket.SOCK_STREAM)\n",
    "server_address = ('localhost',1313)\n",
    "print(\"Connecting to %s %s \" % server_address)\n",
    "message  = b'To infinite loop'\n",
    "print(\"Client sending '%s'\" % message.decode())\n",
    "sock.sendall(message)\n",
    "\n",
    "reply = sock.recv(11)\n",
    "print(\"Client recieved '%s'\" % reply.decode())\n",
    "\n",
    "sock.close()\n"
   ]
  },
  {
   "cell_type": "markdown",
   "id": "b2d1d1db",
   "metadata": {},
   "source": [
    "# Book: Comptia Network+"
   ]
  },
  {
   "cell_type": "code",
   "execution_count": null,
   "id": "d3dc26bd",
   "metadata": {},
   "outputs": [],
   "source": []
  }
 ],
 "metadata": {
  "kernelspec": {
   "display_name": "Python 3 (ipykernel)",
   "language": "python",
   "name": "python3"
  },
  "language_info": {
   "codemirror_mode": {
    "name": "ipython",
    "version": 3
   },
   "file_extension": ".py",
   "mimetype": "text/x-python",
   "name": "python",
   "nbconvert_exporter": "python",
   "pygments_lexer": "ipython3",
   "version": "3.10.9"
  }
 },
 "nbformat": 4,
 "nbformat_minor": 5
}

{
 "cells": [
  {
   "cell_type": "markdown",
   "id": "7bc828e4",
   "metadata": {},
   "source": [
    "## Book: Self Taught Computer Scientist\n",
    "__Chapter-1:__ Introductio to Algorithm. \\\n",
    "__Analyze Algorithm__: \\\n",
    "An algorithm is a sequense of steps that solve a problem. \\\n",
    "Example of __python__ code below:"
   ]
  },
  {
   "cell_type": "code",
   "execution_count": 1,
   "id": "089487f4",
   "metadata": {},
   "outputs": [
    {
     "name": "stdout",
     "output_type": "stream",
     "text": [
      "0\n",
      "25\n",
      "50\n",
      "75\n",
      "0.0009915828704833984\n"
     ]
    }
   ],
   "source": [
    "#code for alogorithm timing.\n",
    "import time\n",
    "start = time.time()\n",
    "for i in range(100):\n",
    "    if (i % 25 == 0):\n",
    "        print(i)\n",
    "end = time.time()\n",
    "print(end - start)"
   ]
  },
  {
   "cell_type": "markdown",
   "id": "dc5f4a43",
   "metadata": {},
   "source": [
    "There are some most commonly used classification for order of magnitude in __big-O notations__, sorted from the best to worst case: \\\n",
    "Each magnitude describes an algorithms time complexity. \\\n",
    "Time Complexity is the maximum number of steps an algorithm takes to complete as __n__ gets _bigger_.\n",
    "* Constant Time.\n",
    "* Logarithmic Time.\n",
    "* Linear Time.\n",
    "* Log-linear Time.\n",
    "* Quadratic Time.\n",
    "* Cubic Time.\n",
    "* Exponential Time. \\\n",
    "__Space Complexity__ is the amount of memory space your algorithm needs and includes fixed spaces, data structures and temporary  space. \\\n",
    "__Brute-force Algorithm__ is a type of algorithm that test every possible options.\n"
   ]
  },
  {
   "cell_type": "code",
   "execution_count": 3,
   "id": "4e317f88",
   "metadata": {},
   "outputs": [
    {
     "data": {
      "text/plain": [
       "0"
      ]
     },
     "execution_count": 3,
     "metadata": {},
     "output_type": "execute_result"
    }
   ],
   "source": [
    "#Code for Recursion.\n",
    "def factorial(n):\n",
    "    if n == 0:\n",
    "        return 0\n",
    "    return n * factorial(n - 1)\n",
    "factorial(11)"
   ]
  },
  {
   "attachments": {},
   "cell_type": "markdown",
   "id": "7689ba9c-7b67-40c3-a423-ca4cb8244831",
   "metadata": {},
   "source": [
    "### Linear Search \n",
    "you iterate through every element in the data set and compare it to the target number \\\n"
   ]
  },
  {
   "cell_type": "code",
   "execution_count": 9,
   "id": "2efc474d-9eec-401f-9a55-6b3e7bc32ea8",
   "metadata": {},
   "outputs": [
    {
     "name": "stdout",
     "output_type": "stream",
     "text": [
      "True\n"
     ]
    }
   ],
   "source": [
    "# code for linear search:\n",
    "def linear_search(a_list, n):\n",
    "    \n",
    "    for i in a_list:\n",
    "        if i == n:\n",
    "            return True\n",
    "    return False\n",
    "a_list = [1,2,3,4,4,5,6,7,7,8,8,8,8]\n",
    "print(linear_search(a_list,8))"
   ]
  },
  {
   "attachments": {},
   "cell_type": "markdown",
   "id": "69e96f9d-65b3-4d97-ae4a-439b2e5bc79e",
   "metadata": {},
   "source": [
    "### Binary Search\n",
    "is another fast algorithm for seaching a list for a number."
   ]
  },
  {
   "cell_type": "code",
   "execution_count": 5,
   "id": "7797fe49",
   "metadata": {},
   "outputs": [
    {
     "name": "stdout",
     "output_type": "stream",
     "text": [
      "5\n"
     ]
    },
    {
     "data": {
      "text/plain": [
       "True"
      ]
     },
     "execution_count": 5,
     "metadata": {},
     "output_type": "execute_result"
    }
   ],
   "source": [
    "## code for binary Search\n",
    "def binary_search(a_list, n):\n",
    "    first = 0\n",
    "    last = len(a_list) - 1\n",
    "    while last >= first:\n",
    "        mid = (last + first) // 2\n",
    "        if a_list[mid] == n:\n",
    "            # print(mid) Just to check the index point of that\n",
    "            return True\n",
    "            \n",
    "        else:\n",
    "            if n < a_list[mid]:\n",
    "                last = mid - 1\n",
    "            else:\n",
    "                first = mid + 1\n",
    "    return False\n",
    "\n",
    "a_list = [10,20,30,40,50,60,70,80]\n",
    "binary_search(a_list, 60)"
   ]
  },
  {
   "cell_type": "code",
   "execution_count": 6,
   "id": "df058835",
   "metadata": {},
   "outputs": [],
   "source": [
    "## code of binary seach which is built in python module:\n",
    "from bisect import bisect_left\n",
    "sorted_fruits = [\"apple\",\"banana\",\"orange\",\"pulm\"]\n",
    "bisect_left(sorted_fruits, \"apple\")"
   ]
  },
  {
   "cell_type": "code",
   "execution_count": null,
   "id": "bfc14d65",
   "metadata": {},
   "outputs": [],
   "source": []
  }
 ],
 "metadata": {
  "kernelspec": {
   "display_name": "Python 3 (ipykernel)",
   "language": "python",
   "name": "python3"
  },
  "language_info": {
   "codemirror_mode": {
    "name": "ipython",
    "version": 3
   },
   "file_extension": ".py",
   "mimetype": "text/x-python",
   "name": "python",
   "nbconvert_exporter": "python",
   "pygments_lexer": "ipython3",
   "version": "3.10.9"
  }
 },
 "nbformat": 4,
 "nbformat_minor": 5
}
